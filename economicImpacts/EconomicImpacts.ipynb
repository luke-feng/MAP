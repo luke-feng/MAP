{
 "cells": [
  {
   "cell_type": "code",
   "execution_count": 85,
   "metadata": {},
   "outputs": [],
   "source": [
    "def getLoss(CostofRepair,CorporateIncomeLoss,OrganizationProductiveLoss,CostofEquipmentReplacement,SLALoss,IndirectLoss,TimetoRepair_without,TimetoDetect_without):\n",
    "    L1 = CostofRepair + CorporateIncomeLoss +OrganizationProductiveLoss\n",
    "    L2 = CorporateIncomeLoss + OrganizationProductiveLoss\n",
    "    L3 = CostofEquipmentReplacement + SLALoss + IndirectLoss\n",
    "    L = L1 * TimetoRepair_without + L2 * TimetoDetect_without + L3\n",
    "    return L1,L2,L3,L\n",
    "\n",
    "def getRisk(TimesofAttack,TimePeriod,TimesofSuccessfulAttack,L):\n",
    "    T = TimesofAttack/12\n",
    "    v = TimesofSuccessfulAttack/TimesofAttack\n",
    "    R0 = T*v*L\n",
    "    return R0\n",
    "\n",
    "def getCost(InitialCost,AnnualUpgrade,AnnualMaintenance,TimePeriod):\n",
    "    TotalCost = InitialCost+(AnnualUpgrade+AnnualMaintenance)*TimePeriod/12\n",
    "    return TotalCost\n",
    "\n",
    "def getMeasureTypeID(R0,R_min,R_max,L_max):\n",
    "    if R0 < R_min:\n",
    "        MeasureTypeID = 0\n",
    "    elif R0 > R_max:\n",
    "        MeasureTypeID = 3\n",
    "    elif L > L_max:\n",
    "        MeasureTypeID = 2\n",
    "    else:\n",
    "        MeasureTypeID = 1\n",
    "    return MeasureTypeID\n",
    "\n",
    "def calculateROSI(MeasureTypeID,TimesofAttack,TimePeriod,TimesofSuccessfulAttack,ReducedVulnerability,InsuranceAmount,TotalCost,R0,L1,L2,L3,TimetoRepair_with,TimetoDetect_with):\n",
    "    T = TimesofAttack/12\n",
    "    v = TimesofSuccessfulAttack/TimesofAttack\n",
    "    vc = (1-ReducedVulnerability)*v\n",
    "    if MeasureTypeID == 0:\n",
    "        ROSI = -1.0\n",
    "    elif MeasureTypeID == 3:\n",
    "        ROSI = 0.0\n",
    "    elif MeasureTypeID == 2:\n",
    "        ROSI = (T*v*InsuranceAmount-TotalCost)/TotalCost\n",
    "    else:\n",
    "        RC = T*vc*(L1*TimetoRepair_with+L2*TimetoDetect_with+L3)\n",
    "        ROSI = (R0-RC-TotalCost)/TotalCost\n",
    "    return ROSI\n",
    "\n",
    "def calculateNPV(MeasureTypeID,TimesofAttack,TimePeriod,TimesofSuccessfulAttack,ReducedVulnerability,InsuranceAmount,TotalCost,R0,L1,L2,L3,TimetoRepair_with,TimetoDetect_with,DiscountRate):\n",
    "    T = TimesofAttack/(TimePeriod/12)\n",
    "    v = TimesofSuccessfulAttack/TimesofAttack\n",
    "    vc = (1-ReducedVulnerability)*v\n",
    "    year = int(TimePeriod/12)\n",
    "    NPV=0.0\n",
    "    if TimePeriod >= 12:\n",
    "        if MeasureTypeID == 0 or MeasureTypeID == 3:\n",
    "            NPV = 0.0\n",
    "        elif MeasureTypeID == 2:\n",
    "            for t in range(0,year): \n",
    "                NPV+= (T*v*InsuranceAmount-TotalCost)/(1+DiscountRate)**t\n",
    "        else:\n",
    "            RC = T*vc*(L1*TimetoRepair_with+L2*TimetoDetect_with+L3)\n",
    "            for t in range(0,year): \n",
    "                NPV+= (R0-RC-TotalCost)/(1+DiscountRate)**t\n",
    "    return NPV\n"
   ]
  },
  {
   "cell_type": "code",
   "execution_count": 95,
   "metadata": {},
   "outputs": [],
   "source": [
    "CostofRepair=10\n",
    "CorporateIncomeLoss=10\n",
    "OrganizationProductiveLoss=3.4\n",
    "CostofEquipmentReplacement=0\n",
    "SLALoss=1000\n",
    "IndirectLoss=0\n",
    "TimetoRepair_without=16\n",
    "TimetoDetect_without=0\n",
    "TimesofAttack=1\n",
    "TimePeriod=12\n",
    "TimesofSuccessfulAttack=0.1\n",
    "InitialCost=200\n",
    "AnnualUpgrade=0\n",
    "AnnualMaintenance=0\n",
    "R_min=10\n",
    "R_max=3000\n",
    "L_max=5000\n",
    "ReducedVulnerability=1\n",
    "InsuranceAmount=3000\n",
    "TimetoRepair_with=1\n",
    "TimetoDetect_with=0\n",
    "DiscountRate=0.01"
   ]
  },
  {
   "cell_type": "code",
   "execution_count": 96,
   "metadata": {},
   "outputs": [],
   "source": [
    "L1,L2,L3,L=getLoss(CostofRepair,CorporateIncomeLoss,OrganizationProductiveLoss,CostofEquipmentReplacement,SLALoss,IndirectLoss,TimetoRepair_without,TimetoDetect_without)\n",
    "R0=getRisk(TimesofAttack,TimePeriod,TimesofSuccessfulAttack,L)\n",
    "TotalCost=getCost(InitialCost,AnnualUpgrade,AnnualMaintenance,TimePeriod)\n",
    "MeasureTypeID=getMeasureTypeID(R0,R_min,R_max,L_max)\n",
    "ROSI=calculateROSI(MeasureTypeID,TimesofAttack,TimePeriod,TimesofSuccessfulAttack,ReducedVulnerability,InsuranceAmount,TotalCost,R0,L1,L2,L3,TimetoRepair_with,TimetoDetect_with)\n",
    "NPV=calculateNPV(MeasureTypeID,TimesofAttack,TimePeriod,TimesofSuccessfulAttack,ReducedVulnerability,InsuranceAmount,TotalCost,R0,L1,L2,L3,TimetoRepair_with,TimetoDetect_with,DiscountRate)"
   ]
  },
  {
   "cell_type": "code",
   "execution_count": 97,
   "metadata": {},
   "outputs": [
    {
     "name": "stdout",
     "output_type": "stream",
     "text": [
      "ROSI: -94.27%\n",
      "NPV: -188.55\n"
     ]
    }
   ],
   "source": [
    "print('ROSI: {:.2%}'.format(ROSI))\n",
    "print('NPV: {:.2f}'.format(NPV))"
   ]
  },
  {
   "cell_type": "code",
   "execution_count": null,
   "metadata": {},
   "outputs": [],
   "source": []
  }
 ],
 "metadata": {
  "kernelspec": {
   "display_name": "Python 3",
   "language": "python",
   "name": "python3"
  },
  "language_info": {
   "codemirror_mode": {
    "name": "ipython",
    "version": 3
   },
   "file_extension": ".py",
   "mimetype": "text/x-python",
   "name": "python",
   "nbconvert_exporter": "python",
   "pygments_lexer": "ipython3",
   "version": "3.7.4"
  }
 },
 "nbformat": 4,
 "nbformat_minor": 2
}
